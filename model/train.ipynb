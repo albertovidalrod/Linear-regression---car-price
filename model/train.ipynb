{
 "cells": [
  {
   "cell_type": "code",
   "execution_count": 9,
   "metadata": {},
   "outputs": [],
   "source": [
    "import csv\n",
    "import os\n",
    "import pickle\n",
    "\n",
    "import pandas as pd\n",
    "import numpy as np\n",
    "\n",
    "from sklearn.compose import make_column_transformer, ColumnTransformer\n",
    "from sklearn.linear_model import LinearRegression\n",
    "from sklearn.metrics import mean_squared_error, r2_score\n",
    "from sklearn.model_selection import (\n",
    "    StratifiedKFold,\n",
    "    GridSearchCV,\n",
    "    train_test_split,\n",
    ")\n",
    "from sklearn.pipeline import Pipeline, make_pipeline\n",
    "from sklearn.preprocessing import (\n",
    "    PolynomialFeatures,\n",
    "    OneHotEncoder,\n",
    "    FunctionTransformer,\n",
    "    MinMaxScaler,\n",
    ")\n",
    "\n",
    "from joblib import dump, load"
   ]
  },
  {
   "cell_type": "code",
   "execution_count": 10,
   "metadata": {},
   "outputs": [],
   "source": [
    "# Load data\n",
    "path_data = \"/Users/albertovidalrodriguez-bobada/Library/Mobile Documents/com~apple~CloudDocs/Python/Projects/Linear regression - car price/data/UK used cars\"\n",
    "\n",
    "# list of files to load\n",
    "files_to_load = [\"audi.csv\", \"bmw.csv\", \"vw.csv\"]\n",
    "\n",
    "# empty list to store data\n",
    "data_list = []\n",
    "\n",
    "# loop through files in directory\n",
    "for file in os.listdir(path_data):\n",
    "    # check if file is in list of files to load\n",
    "    if file in files_to_load:\n",
    "        # open file and read data\n",
    "        with open(os.path.join(path_data, file), newline=\"\") as f:\n",
    "            # create csv reader object\n",
    "            reader = csv.reader(f)\n",
    "            # iterate over rows in the csv file and add filename to each row\n",
    "            reader_data = [row + [file.split(\".\")[0]] for row in reader]\n",
    "            # store column names and data in data_list\n",
    "            col_names = reader_data[0]\n",
    "            data_list.append(reader_data[1:])\n",
    "\n",
    "# concatenate data from all files into one dataframe\n",
    "data = pd.concat(\n",
    "    [pd.DataFrame(data_list[0]), pd.DataFrame(data_list[1]), pd.DataFrame(data_list[2])]\n",
    ").reset_index(drop=True)\n",
    "\n",
    "# rename last column to \"brand\"\n",
    "col_names[-1] = \"brand\"\n",
    "data.columns = col_names\n",
    "\n",
    "# Transform data types after importing data\n",
    "int_cols = [\"year\", \"price\", \"mileage\", \"tax\"]\n",
    "float_cols = [\"mpg\", \"engineSize\"]\n",
    "\n",
    "data[int_cols] = data[int_cols].astype(int)\n",
    "data[float_cols] = data[float_cols].astype(float)\n",
    "\n",
    "# Drop duplicates\n",
    "data.drop_duplicates(ignore_index=True, inplace=True)\n",
    "data.duplicated().value_counts()\n",
    "\n",
    "# Remove outliers based on \"year\" feature\n",
    "data = data[data[\"year\"] > 2005].reset_index(drop=True)\n",
    "\n",
    "# Remove outliers based on \"price\" feature\n",
    "mask_audi = (data[\"brand\"] == \"audi\") & (data[\"price\"] < 75000)\n",
    "mask_vw = (data[\"brand\"] == \"vw\") & (data[\"price\"] < 60000)\n",
    "mask_bmw = (data[\"brand\"] == \"bmw\") & (data[\"price\"] < 100000)\n",
    "mask_brand = mask_audi | mask_vw | mask_bmw\n",
    "data_brand = data[mask_brand].reset_index(drop=True)\n",
    "\n",
    "# Remove outliers based on \"mileage\" feature\n",
    "data = data[data[\"mileage\"] < 150000].reset_index(drop=True)\n",
    "\n",
    "# Remove outliers based on \"MPG\" feature\n",
    "data = data[(data[\"mpg\"] > 18) & (data[\"mpg\"] < 200)].reset_index(drop=True)\n",
    "\n",
    "# Remove outliers based on \"engineSize\" feature\n",
    "data = data[(data[\"engineSize\"] > 1) & (data[\"engineSize\"] < 5.2)].reset_index(\n",
    "    drop=True\n",
    ")\n",
    "\n",
    "mask = (data[\"fuelType\"] == \"Other\") | (data[\"fuelType\"] == \"Electric\")\n",
    "data = data[~mask].reset_index(drop=True)\n",
    "\n",
    "# Drop irrelevant columns\n",
    "data.drop(columns=[\"tax\", \"model\"], axis=1, inplace=True)\n"
   ]
  },
  {
   "cell_type": "code",
   "execution_count": 11,
   "metadata": {},
   "outputs": [
    {
     "name": "stderr",
     "output_type": "stream",
     "text": [
      "/Users/albertovidalrodriguez-bobada/opt/anaconda3/envs/py310/lib/python3.10/site-packages/sklearn/base.py:439: UserWarning: X does not have valid feature names, but FunctionTransformer was fitted with feature names\n",
      "  warnings.warn(\n"
     ]
    }
   ],
   "source": [
    "# Load sample data\n",
    "sample_data = pd.read_parquet(\"sample_data.parquet\")\n",
    "\n",
    "# Define features to be one-hot-encoded, log transformed and non-transformed\n",
    "ohe_cols = [\"transmission\", \"fuelType\", \"brand\"]\n",
    "log_cols = [\"price\", \"mileage\"]\n",
    "log_cols_transformed = [column + \"_log\" for column in log_cols]\n",
    "non_transformed_cols = [\n",
    "    column\n",
    "    for column in data.columns.tolist()\n",
    "    if (column not in ohe_cols) & (column not in log_cols)\n",
    "]\n",
    "\n",
    "# Create data transformer. Note that these \n",
    "log_transformer = FunctionTransformer(func=np.log, inverse_func=np.exp, validate=True)\n",
    "transformer = make_column_transformer(\n",
    "    (log_transformer, log_cols),\n",
    "    (OneHotEncoder(drop=\"first\"), ohe_cols),\n",
    "    remainder=\"passthrough\",\n",
    ")\n",
    "\n",
    "# Transform data\n",
    "transformer.fit(sample_data)\n",
    "transformed = transformer.transform(data)\n",
    "\n",
    "# Define column names of new columns created after one-hot-encoding transformation\n",
    "ohe_cols_transformed = (\n",
    "    transformer.named_transformers_[\"onehotencoder\"].get_feature_names_out().tolist()\n",
    ")\n",
    "# Define the name of all the new columns\n",
    "all_transformed_cols = log_cols_transformed + ohe_cols_transformed + non_transformed_cols\n",
    "\n",
    "# Define index of column containing fuelType_Hybrid data. It will be used in\n",
    "# train_test_split as the stratified variable\n",
    "hybrid_idx = (log_cols + ohe_cols_transformed).index(\"fuelType_Hybrid\")"
   ]
  },
  {
   "cell_type": "code",
   "execution_count": 12,
   "metadata": {},
   "outputs": [],
   "source": [
    "X_data = transformed[:, 1:]\n",
    "y_data = transformed[:, 0]\n",
    "\n",
    "X_train, X_test, y_train, y_test = train_test_split(\n",
    "    X_data,\n",
    "    y_data,\n",
    "    test_size=0.25,\n",
    "    random_state=42,\n",
    "    shuffle=True,\n",
    "    stratify=X_data[:, hybrid_idx - 1],\n",
    ")\n",
    "\n",
    "num_splits = 5\n",
    "sk_fold = StratifiedKFold(n_splits=num_splits, random_state=42, shuffle=True)\n",
    "folds = sk_fold.split(X_train, X_train[:, hybrid_idx])\n",
    "\n",
    "# Define pipeline steps\n",
    "steps = [\n",
    "    (\"scaler\", MinMaxScaler()),\n",
    "    (\"pol_features\", PolynomialFeatures()),\n",
    "    (\"model\", LinearRegression()),\n",
    "]\n",
    "\n",
    "# Create pipeline object\n",
    "pipeline = Pipeline(steps=steps)\n",
    "\n",
    "param_grid = {\"pol_features__degree\": range(1, 6)}\n",
    "\n",
    "regression_model = GridSearchCV(\n",
    "    estimator=pipeline,\n",
    "    param_grid=param_grid,\n",
    "    scoring=[\"neg_root_mean_squared_error\", \"r2\"],\n",
    "    refit=\"neg_root_mean_squared_error\",\n",
    "    cv=folds,\n",
    "    n_jobs=-1,\n",
    "    verbose=0,\n",
    ")\n",
    "\n",
    "# regression_model.fit(X_train, y_train)\n",
    "\n",
    "# dump(regression_model.best_estimator_, os.getcwd() + \"/car-price-v1.joblib\")"
   ]
  },
  {
   "cell_type": "code",
   "execution_count": 13,
   "metadata": {},
   "outputs": [
    {
     "name": "stdout",
     "output_type": "stream",
     "text": [
      "R2 score of predictions vs true values (test data) 0.919\n",
      "R2 score of predictions vs true values (training and test data) 0.920\n"
     ]
    }
   ],
   "source": [
    "model = load(os.getcwd() + \"/car-price-v1.joblib\")\n",
    "r2_test = r2_score(y_test, model.predict(X_test))\n",
    "r2_all = r2_score(y_data, model.predict(X_data))\n",
    "\n",
    "# print(f\"R2 score of predictions vs true values (test data) for one-hot-encoded brands is {r2_test_brands:.3f}\")\n",
    "print(f\"R2 score of predictions vs true values (test data) {r2_test:.3f}\")\n",
    "print(f\"R2 score of predictions vs true values (training and test data) {r2_all:.3f}\")\n"
   ]
  },
  {
   "cell_type": "code",
   "execution_count": 19,
   "metadata": {},
   "outputs": [
    {
     "data": {
      "text/plain": [
       "array([-1618., -1246., -1337., ..., -4167., 10271.,  1610.])"
      ]
     },
     "execution_count": 19,
     "metadata": {},
     "output_type": "execute_result"
    }
   ],
   "source": [
    "np.exp(y_test)-np.round(np.exp(model.predict(X_test)))"
   ]
  },
  {
   "cell_type": "code",
   "execution_count": 20,
   "metadata": {},
   "outputs": [
    {
     "data": {
      "text/plain": [
       "array([13113., 21282.,  8827., ..., 26166., 26219., 20388.])"
      ]
     },
     "execution_count": 20,
     "metadata": {},
     "output_type": "execute_result"
    }
   ],
   "source": [
    "np.round(np.exp(model.predict(X_test)))"
   ]
  }
 ],
 "metadata": {
  "kernelspec": {
   "display_name": "Python 3.10",
   "language": "python",
   "name": "py310"
  },
  "language_info": {
   "codemirror_mode": {
    "name": "ipython",
    "version": 3
   },
   "file_extension": ".py",
   "mimetype": "text/x-python",
   "name": "python",
   "nbconvert_exporter": "python",
   "pygments_lexer": "ipython3",
   "version": "3.10.10"
  },
  "orig_nbformat": 4
 },
 "nbformat": 4,
 "nbformat_minor": 2
}
