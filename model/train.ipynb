{
 "cells": [
  {
   "cell_type": "code",
   "execution_count": 1,
   "metadata": {},
   "outputs": [],
   "source": [
    "import csv\n",
    "import os\n",
    "import re\n",
    "import warnings\n",
    "\n",
    "import pandas as pd\n",
    "import numpy as np\n",
    "\n",
    "from sklearn.compose import make_column_transformer, ColumnTransformer\n",
    "from sklearn.linear_model import LinearRegression\n",
    "from sklearn.metrics import mean_squared_error, r2_score, make_scorer\n",
    "from sklearn.model_selection import (\n",
    "    StratifiedKFold,\n",
    "    GridSearchCV,\n",
    "    train_test_split,\n",
    ")\n",
    "from sklearn.pipeline import Pipeline, make_pipeline\n",
    "from sklearn.preprocessing import (\n",
    "    PolynomialFeatures,\n",
    "    OneHotEncoder,\n",
    "    FunctionTransformer,\n",
    "    MinMaxScaler,\n",
    ")\n",
    "\n",
    "from joblib import dump, load"
   ]
  },
  {
   "cell_type": "code",
   "execution_count": 2,
   "metadata": {},
   "outputs": [
    {
     "data": {
      "text/html": [
       "<div>\n",
       "<style scoped>\n",
       "    .dataframe tbody tr th:only-of-type {\n",
       "        vertical-align: middle;\n",
       "    }\n",
       "\n",
       "    .dataframe tbody tr th {\n",
       "        vertical-align: top;\n",
       "    }\n",
       "\n",
       "    .dataframe thead th {\n",
       "        text-align: right;\n",
       "    }\n",
       "</style>\n",
       "<table border=\"1\" class=\"dataframe\">\n",
       "  <thead>\n",
       "    <tr style=\"text-align: right;\">\n",
       "      <th></th>\n",
       "      <th>model</th>\n",
       "      <th>year</th>\n",
       "      <th>price</th>\n",
       "      <th>transmission</th>\n",
       "      <th>mileage</th>\n",
       "      <th>fuelType</th>\n",
       "      <th>mpg</th>\n",
       "      <th>engineSize</th>\n",
       "      <th>brand</th>\n",
       "    </tr>\n",
       "  </thead>\n",
       "  <tbody>\n",
       "    <tr>\n",
       "      <th>0</th>\n",
       "      <td>5 Series</td>\n",
       "      <td>2014</td>\n",
       "      <td>11200</td>\n",
       "      <td>Automatic</td>\n",
       "      <td>67068</td>\n",
       "      <td>Diesel</td>\n",
       "      <td>57.6</td>\n",
       "      <td>2.0</td>\n",
       "      <td>bmw</td>\n",
       "    </tr>\n",
       "    <tr>\n",
       "      <th>1</th>\n",
       "      <td>6 Series</td>\n",
       "      <td>2018</td>\n",
       "      <td>27000</td>\n",
       "      <td>Automatic</td>\n",
       "      <td>14827</td>\n",
       "      <td>Petrol</td>\n",
       "      <td>42.8</td>\n",
       "      <td>2.0</td>\n",
       "      <td>bmw</td>\n",
       "    </tr>\n",
       "    <tr>\n",
       "      <th>2</th>\n",
       "      <td>5 Series</td>\n",
       "      <td>2016</td>\n",
       "      <td>16000</td>\n",
       "      <td>Automatic</td>\n",
       "      <td>62794</td>\n",
       "      <td>Diesel</td>\n",
       "      <td>51.4</td>\n",
       "      <td>3.0</td>\n",
       "      <td>bmw</td>\n",
       "    </tr>\n",
       "    <tr>\n",
       "      <th>3</th>\n",
       "      <td>1 Series</td>\n",
       "      <td>2017</td>\n",
       "      <td>12750</td>\n",
       "      <td>Automatic</td>\n",
       "      <td>26676</td>\n",
       "      <td>Diesel</td>\n",
       "      <td>72.4</td>\n",
       "      <td>1.5</td>\n",
       "      <td>bmw</td>\n",
       "    </tr>\n",
       "    <tr>\n",
       "      <th>4</th>\n",
       "      <td>7 Series</td>\n",
       "      <td>2014</td>\n",
       "      <td>14500</td>\n",
       "      <td>Automatic</td>\n",
       "      <td>39554</td>\n",
       "      <td>Diesel</td>\n",
       "      <td>50.4</td>\n",
       "      <td>3.0</td>\n",
       "      <td>bmw</td>\n",
       "    </tr>\n",
       "  </tbody>\n",
       "</table>\n",
       "</div>"
      ],
      "text/plain": [
       "       model  year  price transmission mileage fuelType   mpg engineSize brand\n",
       "0   5 Series  2014  11200    Automatic   67068   Diesel  57.6        2.0   bmw\n",
       "1   6 Series  2018  27000    Automatic   14827   Petrol  42.8        2.0   bmw\n",
       "2   5 Series  2016  16000    Automatic   62794   Diesel  51.4        3.0   bmw\n",
       "3   1 Series  2017  12750    Automatic   26676   Diesel  72.4        1.5   bmw\n",
       "4   7 Series  2014  14500    Automatic   39554   Diesel  50.4        3.0   bmw"
      ]
     },
     "execution_count": 2,
     "metadata": {},
     "output_type": "execute_result"
    }
   ],
   "source": [
    "# Load data\n",
    "path_data = \"../data/UK used cars/\"\n",
    "\n",
    "# list of files to load\n",
    "files_to_load = [\"audi.csv\", \"bmw.csv\", \"vw.csv\"]\n",
    "\n",
    "# empty list to store data\n",
    "data_list = []\n",
    "\n",
    "# loop through files in directory\n",
    "for file in os.listdir(path_data):\n",
    "    # check if file is in list of files to load\n",
    "    if file in files_to_load:\n",
    "        # open file and read data\n",
    "        with open(os.path.join(path_data, file), newline=\"\") as f:\n",
    "            # create csv reader object\n",
    "            reader = csv.reader(f)\n",
    "            # iterate over rows in the csv file and add filename to each row\n",
    "            reader_data = [row + [file.split(\".\")[0]] for row in reader]\n",
    "            # store column names and data in data_list\n",
    "            col_names = reader_data[0]\n",
    "            data_list.append(reader_data[1:])\n",
    "\n",
    "# concatenate data from all files into one dataframe\n",
    "data_kaggle = pd.concat(\n",
    "    [pd.DataFrame(data_list[0]), pd.DataFrame(data_list[1]), pd.DataFrame(data_list[2])]\n",
    ").reset_index(drop=True)\n",
    "\n",
    "# rename last column to \"brand\"\n",
    "col_names[-1] = \"brand\"\n",
    "data_kaggle.columns = col_names\n",
    "\n",
    "# Drop tax column as it isn't used and it isn't part of the scraped dataset\n",
    "data_kaggle.drop(columns=[\"tax\"], inplace=True)\n",
    "data_kaggle.head()"
   ]
  },
  {
   "cell_type": "code",
   "execution_count": 3,
   "metadata": {},
   "outputs": [],
   "source": [
    "# previous_files = [x for x in os.listdir(\"../data/Scraped data/\") if \".parquet\" in x]\n",
    "\n",
    "# if previous_files:\n",
    "#     sorted_files = sorted(\n",
    "#         previous_files, key=lambda x: int(re.search(r\"\\d+\", x).group())\n",
    "#     )\n",
    "#     latest_file = sorted_files[-1]\n",
    "\n",
    "#     data_scraped = pd.read_parquet(f\"../data/Scraped data/{latest_file}\")\n",
    "\n",
    "# data = pd.concat([data_kaggle, data_scraped])\n",
    "data = data_kaggle.copy()"
   ]
  },
  {
   "cell_type": "code",
   "execution_count": 4,
   "metadata": {},
   "outputs": [],
   "source": [
    "\n",
    "# Transform data types after importing data\n",
    "int_cols = [\"year\", \"price\", \"mileage\"]\n",
    "float_cols = [\"mpg\", \"engineSize\"]\n",
    "\n",
    "data[int_cols] = data[int_cols].astype(int)\n",
    "data[float_cols] = data[float_cols].astype(float)\n",
    "\n",
    "# Drop duplicates\n",
    "data.drop_duplicates(ignore_index=True, inplace=True)\n",
    "\n",
    "\n",
    "# Remove outliers based on \"year\" feature\n",
    "data = data[data[\"year\"] > 2005].reset_index(drop=True)\n",
    "\n",
    "# Remove outliers based on \"price\" feature\n",
    "mask_audi = (data[\"brand\"] == \"audi\") & (data[\"price\"] < 75000)\n",
    "mask_vw = (data[\"brand\"] == \"vw\") & (data[\"price\"] < 60000)\n",
    "mask_bmw = (data[\"brand\"] == \"bmw\") & (data[\"price\"] < 100000)\n",
    "mask_brand = mask_audi | mask_vw | mask_bmw\n",
    "data = data[mask_brand].reset_index(drop=True)\n",
    "\n",
    "# Remove outliers based on \"mileage\" feature\n",
    "data = data[data[\"mileage\"] < 150000].reset_index(drop=True)\n",
    "\n",
    "# Remove outliers based on \"MPG\" feature\n",
    "data = data[(data[\"mpg\"] > 18) & (data[\"mpg\"] < 200)].reset_index(drop=True)\n",
    "\n",
    "# Remove outliers based on \"engineSize\" feature\n",
    "data = data[(data[\"engineSize\"] > 1) & (data[\"engineSize\"] < 5.2)].reset_index(\n",
    "    drop=True\n",
    ")\n",
    "\n",
    "mask = (data[\"fuelType\"] == \"Other\") | (data[\"fuelType\"] == \"Electric\")\n",
    "data = data[~mask].reset_index(drop=True)\n",
    "\n",
    "# Drop irrelevant columns\n",
    "data.drop(columns=[\"model\"], inplace=True)\n"
   ]
  },
  {
   "cell_type": "code",
   "execution_count": 5,
   "metadata": {},
   "outputs": [
    {
     "name": "stderr",
     "output_type": "stream",
     "text": [
      "/Users/albertovidalrodriguez-bobada/opt/anaconda3/envs/py310/lib/python3.10/site-packages/sklearn/base.py:439: UserWarning: X does not have valid feature names, but FunctionTransformer was fitted with feature names\n",
      "  warnings.warn(\n"
     ]
    }
   ],
   "source": [
    "# Load sample data\n",
    "sample_data = pd.read_parquet(\"sample_data-v1.parquet\")\n",
    "\n",
    "# Define features to be one-hot-encoded, log transformed and non-transformed\n",
    "ohe_cols = [\"transmission\", \"fuelType\", \"brand\"]\n",
    "log_cols = [\"price\", \"mileage\"]\n",
    "log_cols_transformed = [column + \"_log\" for column in log_cols]\n",
    "non_transformed_cols = [\n",
    "    column\n",
    "    for column in data.columns.tolist()\n",
    "    if (column not in ohe_cols) & (column not in log_cols)\n",
    "]\n",
    "\n",
    "# Create data transformer. Note that these \n",
    "log_transformer = FunctionTransformer(func=np.log, inverse_func=np.exp, validate=True)\n",
    "transformer = make_column_transformer(\n",
    "    (log_transformer, log_cols),\n",
    "    (OneHotEncoder(drop=\"first\"), ohe_cols),\n",
    "    remainder=\"passthrough\",\n",
    ")\n",
    "\n",
    "# Transform data\n",
    "transformer.fit(sample_data)\n",
    "transformed = transformer.transform(data)\n",
    "\n",
    "# Define column names of new columns created after one-hot-encoding transformation\n",
    "ohe_cols_transformed = (\n",
    "    transformer.named_transformers_[\"onehotencoder\"].get_feature_names_out().tolist()\n",
    ")\n",
    "# Define the name of all the new columns\n",
    "all_transformed_cols = log_cols_transformed + ohe_cols_transformed + non_transformed_cols\n",
    "\n",
    "# Define index of column containing fuelType_Hybrid data. It will be used in\n",
    "# train_test_split as the stratified variable\n",
    "hybrid_idx = (log_cols + ohe_cols_transformed).index(\"fuelType_Hybrid\")"
   ]
  },
  {
   "cell_type": "code",
   "execution_count": 21,
   "metadata": {},
   "outputs": [
    {
     "name": "stdout",
     "output_type": "stream",
     "text": [
      "Fitting 5 folds for each of 4 candidates, totalling 20 fits\n",
      "[CV 2/5] END ...........pol_features__degree=1;, score=-0.172 total time=   0.0s\n",
      "[CV 1/5] END ...........pol_features__degree=1;, score=-0.171 total time=   0.0s\n",
      "[CV 3/5] END ...........pol_features__degree=1;, score=-0.174 total time=   0.0s\n",
      "[CV 4/5] END ...........pol_features__degree=1;, score=-0.173 total time=   0.0s\n",
      "[CV 5/5] END ...........pol_features__degree=1;, score=-0.171 total time=   0.0s\n",
      "[CV 1/5] END ...........pol_features__degree=2;, score=-0.147 total time=   0.1s[CV 3/5] END ...........pol_features__degree=2;, score=-0.148 total time=   0.1s\n",
      "\n",
      "[CV 2/5] END ...........pol_features__degree=2;, score=-0.146 total time=   0.1s\n",
      "[CV 4/5] END ...........pol_features__degree=2;, score=-0.150 total time=   0.2s\n",
      "[CV 5/5] END ...........pol_features__degree=2;, score=-0.145 total time=   0.2s\n",
      "[CV 4/5] END ...........pol_features__degree=3;, score=-0.146 total time=   0.8s\n",
      "[CV 1/5] END ...........pol_features__degree=3;, score=-0.137 total time=   0.9s\n",
      "[CV 5/5] END ...........pol_features__degree=3;, score=-0.139 total time=   0.9s[CV 3/5] END ...........pol_features__degree=3;, score=-0.136 total time=   0.9s\n",
      "\n",
      "[CV 2/5] END ...........pol_features__degree=3;, score=-0.134 total time=   1.0s\n",
      "[CV 3/5] END ........pol_features__degree=4;, score=-7911.607 total time=   3.4s\n",
      "[CV 1/5] END .....pol_features__degree=4;, score=-2723863.844 total time=   3.5s\n",
      "[CV 2/5] END .....pol_features__degree=4;, score=-7071687.406 total time=   3.5s\n",
      "[CV 4/5] END .....pol_features__degree=4;, score=-1921931.282 total time=   2.9s\n",
      "[CV 5/5] END .....pol_features__degree=4;, score=-3938185.985 total time=   2.9s\n"
     ]
    },
    {
     "data": {
      "text/html": [
       "<style>#sk-container-id-8 {color: black;background-color: white;}#sk-container-id-8 pre{padding: 0;}#sk-container-id-8 div.sk-toggleable {background-color: white;}#sk-container-id-8 label.sk-toggleable__label {cursor: pointer;display: block;width: 100%;margin-bottom: 0;padding: 0.3em;box-sizing: border-box;text-align: center;}#sk-container-id-8 label.sk-toggleable__label-arrow:before {content: \"▸\";float: left;margin-right: 0.25em;color: #696969;}#sk-container-id-8 label.sk-toggleable__label-arrow:hover:before {color: black;}#sk-container-id-8 div.sk-estimator:hover label.sk-toggleable__label-arrow:before {color: black;}#sk-container-id-8 div.sk-toggleable__content {max-height: 0;max-width: 0;overflow: hidden;text-align: left;background-color: #f0f8ff;}#sk-container-id-8 div.sk-toggleable__content pre {margin: 0.2em;color: black;border-radius: 0.25em;background-color: #f0f8ff;}#sk-container-id-8 input.sk-toggleable__control:checked~div.sk-toggleable__content {max-height: 200px;max-width: 100%;overflow: auto;}#sk-container-id-8 input.sk-toggleable__control:checked~label.sk-toggleable__label-arrow:before {content: \"▾\";}#sk-container-id-8 div.sk-estimator input.sk-toggleable__control:checked~label.sk-toggleable__label {background-color: #d4ebff;}#sk-container-id-8 div.sk-label input.sk-toggleable__control:checked~label.sk-toggleable__label {background-color: #d4ebff;}#sk-container-id-8 input.sk-hidden--visually {border: 0;clip: rect(1px 1px 1px 1px);clip: rect(1px, 1px, 1px, 1px);height: 1px;margin: -1px;overflow: hidden;padding: 0;position: absolute;width: 1px;}#sk-container-id-8 div.sk-estimator {font-family: monospace;background-color: #f0f8ff;border: 1px dotted black;border-radius: 0.25em;box-sizing: border-box;margin-bottom: 0.5em;}#sk-container-id-8 div.sk-estimator:hover {background-color: #d4ebff;}#sk-container-id-8 div.sk-parallel-item::after {content: \"\";width: 100%;border-bottom: 1px solid gray;flex-grow: 1;}#sk-container-id-8 div.sk-label:hover label.sk-toggleable__label {background-color: #d4ebff;}#sk-container-id-8 div.sk-serial::before {content: \"\";position: absolute;border-left: 1px solid gray;box-sizing: border-box;top: 0;bottom: 0;left: 50%;z-index: 0;}#sk-container-id-8 div.sk-serial {display: flex;flex-direction: column;align-items: center;background-color: white;padding-right: 0.2em;padding-left: 0.2em;position: relative;}#sk-container-id-8 div.sk-item {position: relative;z-index: 1;}#sk-container-id-8 div.sk-parallel {display: flex;align-items: stretch;justify-content: center;background-color: white;position: relative;}#sk-container-id-8 div.sk-item::before, #sk-container-id-8 div.sk-parallel-item::before {content: \"\";position: absolute;border-left: 1px solid gray;box-sizing: border-box;top: 0;bottom: 0;left: 50%;z-index: -1;}#sk-container-id-8 div.sk-parallel-item {display: flex;flex-direction: column;z-index: 1;position: relative;background-color: white;}#sk-container-id-8 div.sk-parallel-item:first-child::after {align-self: flex-end;width: 50%;}#sk-container-id-8 div.sk-parallel-item:last-child::after {align-self: flex-start;width: 50%;}#sk-container-id-8 div.sk-parallel-item:only-child::after {width: 0;}#sk-container-id-8 div.sk-dashed-wrapped {border: 1px dashed gray;margin: 0 0.4em 0.5em 0.4em;box-sizing: border-box;padding-bottom: 0.4em;background-color: white;}#sk-container-id-8 div.sk-label label {font-family: monospace;font-weight: bold;display: inline-block;line-height: 1.2em;}#sk-container-id-8 div.sk-label-container {text-align: center;}#sk-container-id-8 div.sk-container {/* jupyter's `normalize.less` sets `[hidden] { display: none; }` but bootstrap.min.css set `[hidden] { display: none !important; }` so we also need the `!important` here to be able to override the default hidden behavior on the sphinx rendered scikit-learn.org. See: https://github.com/scikit-learn/scikit-learn/issues/21755 */display: inline-block !important;position: relative;}#sk-container-id-8 div.sk-text-repr-fallback {display: none;}</style><div id=\"sk-container-id-8\" class=\"sk-top-container\"><div class=\"sk-text-repr-fallback\"><pre>GridSearchCV(cv=&lt;generator object _BaseKFold.split at 0x150eb77d0&gt;,\n",
       "             estimator=Pipeline(steps=[(&#x27;scaler&#x27;, MinMaxScaler()),\n",
       "                                       (&#x27;pol_features&#x27;, PolynomialFeatures()),\n",
       "                                       (&#x27;model&#x27;, LinearRegression())]),\n",
       "             n_jobs=-1, param_grid={&#x27;pol_features__degree&#x27;: range(1, 5)},\n",
       "             scoring=make_scorer(rmse, greater_is_better=False), verbose=3)</pre><b>In a Jupyter environment, please rerun this cell to show the HTML representation or trust the notebook. <br />On GitHub, the HTML representation is unable to render, please try loading this page with nbviewer.org.</b></div><div class=\"sk-container\" hidden><div class=\"sk-item sk-dashed-wrapped\"><div class=\"sk-label-container\"><div class=\"sk-label sk-toggleable\"><input class=\"sk-toggleable__control sk-hidden--visually\" id=\"sk-estimator-id-35\" type=\"checkbox\" ><label for=\"sk-estimator-id-35\" class=\"sk-toggleable__label sk-toggleable__label-arrow\">GridSearchCV</label><div class=\"sk-toggleable__content\"><pre>GridSearchCV(cv=&lt;generator object _BaseKFold.split at 0x150eb77d0&gt;,\n",
       "             estimator=Pipeline(steps=[(&#x27;scaler&#x27;, MinMaxScaler()),\n",
       "                                       (&#x27;pol_features&#x27;, PolynomialFeatures()),\n",
       "                                       (&#x27;model&#x27;, LinearRegression())]),\n",
       "             n_jobs=-1, param_grid={&#x27;pol_features__degree&#x27;: range(1, 5)},\n",
       "             scoring=make_scorer(rmse, greater_is_better=False), verbose=3)</pre></div></div></div><div class=\"sk-parallel\"><div class=\"sk-parallel-item\"><div class=\"sk-item\"><div class=\"sk-label-container\"><div class=\"sk-label sk-toggleable\"><input class=\"sk-toggleable__control sk-hidden--visually\" id=\"sk-estimator-id-36\" type=\"checkbox\" ><label for=\"sk-estimator-id-36\" class=\"sk-toggleable__label sk-toggleable__label-arrow\">estimator: Pipeline</label><div class=\"sk-toggleable__content\"><pre>Pipeline(steps=[(&#x27;scaler&#x27;, MinMaxScaler()),\n",
       "                (&#x27;pol_features&#x27;, PolynomialFeatures()),\n",
       "                (&#x27;model&#x27;, LinearRegression())])</pre></div></div></div><div class=\"sk-serial\"><div class=\"sk-item\"><div class=\"sk-serial\"><div class=\"sk-item\"><div class=\"sk-estimator sk-toggleable\"><input class=\"sk-toggleable__control sk-hidden--visually\" id=\"sk-estimator-id-37\" type=\"checkbox\" ><label for=\"sk-estimator-id-37\" class=\"sk-toggleable__label sk-toggleable__label-arrow\">MinMaxScaler</label><div class=\"sk-toggleable__content\"><pre>MinMaxScaler()</pre></div></div></div><div class=\"sk-item\"><div class=\"sk-estimator sk-toggleable\"><input class=\"sk-toggleable__control sk-hidden--visually\" id=\"sk-estimator-id-38\" type=\"checkbox\" ><label for=\"sk-estimator-id-38\" class=\"sk-toggleable__label sk-toggleable__label-arrow\">PolynomialFeatures</label><div class=\"sk-toggleable__content\"><pre>PolynomialFeatures()</pre></div></div></div><div class=\"sk-item\"><div class=\"sk-estimator sk-toggleable\"><input class=\"sk-toggleable__control sk-hidden--visually\" id=\"sk-estimator-id-39\" type=\"checkbox\" ><label for=\"sk-estimator-id-39\" class=\"sk-toggleable__label sk-toggleable__label-arrow\">LinearRegression</label><div class=\"sk-toggleable__content\"><pre>LinearRegression()</pre></div></div></div></div></div></div></div></div></div></div></div></div>"
      ],
      "text/plain": [
       "GridSearchCV(cv=<generator object _BaseKFold.split at 0x150eb77d0>,\n",
       "             estimator=Pipeline(steps=[('scaler', MinMaxScaler()),\n",
       "                                       ('pol_features', PolynomialFeatures()),\n",
       "                                       ('model', LinearRegression())]),\n",
       "             n_jobs=-1, param_grid={'pol_features__degree': range(1, 5)},\n",
       "             scoring=make_scorer(rmse, greater_is_better=False), verbose=3)"
      ]
     },
     "execution_count": 21,
     "metadata": {},
     "output_type": "execute_result"
    }
   ],
   "source": [
    "X_data = transformed[:, 1:]\n",
    "y_data = transformed[:, 0]\n",
    "\n",
    "X_train, X_test, y_train, y_test = train_test_split(\n",
    "    X_data,\n",
    "    y_data,\n",
    "    test_size=0.25,\n",
    "    random_state=42,\n",
    "    shuffle=True,\n",
    "    stratify=X_data[:, hybrid_idx - 1],\n",
    ")\n",
    "\n",
    "num_splits = 5\n",
    "sk_fold = StratifiedKFold(n_splits=num_splits, random_state=42, shuffle=True)\n",
    "folds = sk_fold.split(X_train, X_train[:, hybrid_idx])\n",
    "\n",
    "# Define pipeline steps\n",
    "steps = [\n",
    "    (\"scaler\", MinMaxScaler()),\n",
    "    (\"pol_features\", PolynomialFeatures()),\n",
    "    (\"model\", LinearRegression()),\n",
    "]\n",
    "\n",
    "# Create pipeline object\n",
    "pipeline = Pipeline(steps=steps)\n",
    "\n",
    "param_grid = {\"pol_features__degree\": range(1, 5)}\n",
    "\n",
    "# Define metric for Grid Search process\n",
    "# The rmse of the log transformed prices isn't the same as the rmse of the actual prices\n",
    "# Therefore, I will create a metric that computes the rmse of the actual prices and\n",
    "# predictions to select the best performing model\n",
    "def rmse(y_true, y_pred):\n",
    "    # Compute the rmse of log prices\n",
    "    rmse_log = np.sqrt(mean_squared_error(y_true, y_pred))\n",
    "    rmse_value = rmse_log\n",
    "    #  Sometimes, if the degree is too high for an accurate model, the rmse will yield\n",
    "    # cray values exceeded 10000 (for reference, for the log prices the average rmse is \n",
    "    # 0.2)\n",
    "    # If the value is less than 1000, I will compute the rmse of the actual prices.\n",
    "    # Otherwise, the output of the function is the rmse of log prices\n",
    "    if rmse_log < 1000:\n",
    "        rmse_exp = np.sqrt(mean_squared_error(np.exp(y_true), np.exp(y_pred)))\n",
    "        rmse_value = rmse_exp\n",
    "    return rmse_value\n",
    "rmse_scorer = make_scorer(rmse, greater_is_better=False)\n",
    "\n",
    "\n",
    "\n",
    "\n",
    "regression_model = GridSearchCV(\n",
    "    estimator=pipeline,\n",
    "    param_grid=param_grid,\n",
    "    scoring=rmse_scorer,\n",
    "    cv=folds,\n",
    "    n_jobs=-1,\n",
    "    verbose=3,\n",
    ")\n",
    "\n",
    "regression_model.fit(X_train, y_train)\n",
    "\n",
    "# regression_model = GridSearchCV(\n",
    "#     estimator=pipeline,\n",
    "#     param_grid=param_grid,\n",
    "#     scoring={'rmse': \"neg_root_mean_squared_error\", 'rmse_def': rmse_scorer},\n",
    "#     refit=\"rmse\",\n",
    "#     cv=folds,\n",
    "#     n_jobs=-1,\n",
    "#     verbose=3,\n",
    "# )\n",
    "\n",
    "\n",
    "# dump(regression_model.best_estimator_, os.getcwd() + \"/car-price-v1.joblib\")"
   ]
  },
  {
   "cell_type": "code",
   "execution_count": 22,
   "metadata": {},
   "outputs": [
    {
     "data": {
      "text/plain": [
       "{'pol_features__degree': 3}"
      ]
     },
     "execution_count": 22,
     "metadata": {},
     "output_type": "execute_result"
    }
   ],
   "source": [
    "regression_model.best_params_"
   ]
  },
  {
   "cell_type": "code",
   "execution_count": 24,
   "metadata": {},
   "outputs": [
    {
     "data": {
      "text/plain": [
       "3"
      ]
     },
     "execution_count": 24,
     "metadata": {},
     "output_type": "execute_result"
    }
   ],
   "source": [
    "regression_model.best_estimator_.named_steps[\n",
    "        \"pol_features\"\n",
    "    ].degree"
   ]
  },
  {
   "cell_type": "code",
   "execution_count": null,
   "metadata": {},
   "outputs": [],
   "source": []
  },
  {
   "cell_type": "code",
   "execution_count": null,
   "metadata": {},
   "outputs": [],
   "source": [
    "predictions = regression_model.predict(X_test)"
   ]
  },
  {
   "cell_type": "code",
   "execution_count": null,
   "metadata": {},
   "outputs": [],
   "source": []
  },
  {
   "cell_type": "code",
   "execution_count": null,
   "metadata": {},
   "outputs": [],
   "source": [
    "r2_score(np.exp(y_test), np.exp(predictions))"
   ]
  },
  {
   "cell_type": "code",
   "execution_count": null,
   "metadata": {},
   "outputs": [],
   "source": [
    "model = load(os.getcwd() + \"/car-price-v1.joblib\")\n",
    "r2_test = r2_score(y_test, model.predict(X_test))\n",
    "r2_all = r2_score(y_data, model.predict(X_data))\n",
    "\n",
    "# print(f\"R2 score of predictions vs true values (test data) for one-hot-encoded brands is {r2_test_brands:.3f}\")\n",
    "print(f\"R2 score of predictions vs true values (test data) {r2_test:.3f}\")\n",
    "print(f\"R2 score of predictions vs true values (training and test data) {r2_all:.3f}\")\n"
   ]
  },
  {
   "cell_type": "code",
   "execution_count": null,
   "metadata": {},
   "outputs": [],
   "source": [
    "np.exp(y_test)-np.round(np.exp(model.predict(X_test)))"
   ]
  },
  {
   "cell_type": "code",
   "execution_count": null,
   "metadata": {},
   "outputs": [],
   "source": [
    "np.round(np.exp(model.predict(X_test)))"
   ]
  },
  {
   "cell_type": "code",
   "execution_count": null,
   "metadata": {},
   "outputs": [],
   "source": [
    "clean_data = pd.read_parquet(\"clean_data.parquet\")"
   ]
  },
  {
   "cell_type": "code",
   "execution_count": null,
   "metadata": {},
   "outputs": [],
   "source": [
    "clean_data[\"fuelType\"].value_counts()"
   ]
  },
  {
   "cell_type": "code",
   "execution_count": null,
   "metadata": {},
   "outputs": [],
   "source": [
    "hybrid_data = clean_data[clean_data[\"fuelType\"] == \"Hybrid\"].reset_index(drop=True)"
   ]
  },
  {
   "cell_type": "code",
   "execution_count": null,
   "metadata": {},
   "outputs": [],
   "source": [
    "hybrid_data[hybrid_data[\"brand\"] == \"audi\"]"
   ]
  }
 ],
 "metadata": {
  "kernelspec": {
   "display_name": "Python 3.10",
   "language": "python",
   "name": "py310"
  },
  "language_info": {
   "codemirror_mode": {
    "name": "ipython",
    "version": 3
   },
   "file_extension": ".py",
   "mimetype": "text/x-python",
   "name": "python",
   "nbconvert_exporter": "python",
   "pygments_lexer": "ipython3",
   "version": "3.10.10"
  },
  "orig_nbformat": 4
 },
 "nbformat": 4,
 "nbformat_minor": 2
}
